{
 "cells": [
  {
   "cell_type": "code",
   "execution_count": 1,
   "metadata": {},
   "outputs": [],
   "source": [
    "import pandas as pd\n",
    "import matplotlib.pyplot as plt\n",
    "import seaborn as sns\n",
    "from sklearn.model_selection import train_test_split\n",
    "from sklearn import metrics\n",
    "from sklearn.linear_model import LogisticRegression\n",
    "from sklearn.svm import SVC\n",
    "from sklearn.ensemble import RandomForestClassifier\n",
    "from sklearn.tree import DecisionTreeClassifier"
   ]
  },
  {
   "cell_type": "code",
   "execution_count": 2,
   "metadata": {},
   "outputs": [],
   "source": [
    "from sklearn.datasets import load_digits\n",
    "digits = load_digits()"
   ]
  },
  {
   "cell_type": "code",
   "execution_count": 3,
   "metadata": {},
   "outputs": [],
   "source": [
    "X = digits.data\n",
    "y = digits.target"
   ]
  },
  {
   "cell_type": "code",
   "execution_count": 4,
   "metadata": {},
   "outputs": [],
   "source": [
    "X_train, X_test, y_train, y_test = train_test_split(X, y , test_size = 0.2, random_state = 42)"
   ]
  },
  {
   "cell_type": "code",
   "execution_count": 5,
   "metadata": {},
   "outputs": [
    {
     "name": "stderr",
     "output_type": "stream",
     "text": [
      "/opt/anaconda3/lib/python3.8/site-packages/sklearn/linear_model/_logistic.py:762: ConvergenceWarning: lbfgs failed to converge (status=1):\n",
      "STOP: TOTAL NO. of ITERATIONS REACHED LIMIT.\n",
      "\n",
      "Increase the number of iterations (max_iter) or scale the data as shown in:\n",
      "    https://scikit-learn.org/stable/modules/preprocessing.html\n",
      "Please also refer to the documentation for alternative solver options:\n",
      "    https://scikit-learn.org/stable/modules/linear_model.html#logistic-regression\n",
      "  n_iter_i = _check_optimize_result(\n"
     ]
    },
    {
     "name": "stdout",
     "output_type": "stream",
     "text": [
      "0.97\n",
      "0.99\n",
      "0.98\n",
      "0.86\n"
     ]
    }
   ],
   "source": [
    "models = [LogisticRegression, SVC, RandomForestClassifier, DecisionTreeClassifier]\n",
    "for model in models:\n",
    "    clf = model()\n",
    "    clf.fit(X_train, y_train)\n",
    "    print('{:.2f}'.format(clf.score(X_test, y_test)))"
   ]
  },
  {
   "cell_type": "code",
   "execution_count": 6,
   "metadata": {},
   "outputs": [
    {
     "data": {
      "text/plain": [
       "KFold(n_splits=3, random_state=None, shuffle=False)"
      ]
     },
     "execution_count": 6,
     "metadata": {},
     "output_type": "execute_result"
    }
   ],
   "source": [
    "from sklearn.model_selection import KFold\n",
    "kfold = KFold(n_splits= 3)\n",
    "kfold"
   ]
  },
  {
   "cell_type": "code",
   "execution_count": 7,
   "metadata": {},
   "outputs": [
    {
     "name": "stdout",
     "output_type": "stream",
     "text": [
      "[4 5 6 7 8 9] [0 1 2 3]\n",
      "[0 1 2 3 7 8 9] [4 5 6]\n",
      "[0 1 2 3 4 5 6] [7 8 9]\n"
     ]
    }
   ],
   "source": [
    "for train_index, test_index in kfold.split(range(10)):\n",
    "    print(train_index, test_index)"
   ]
  },
  {
   "cell_type": "code",
   "execution_count": 8,
   "metadata": {},
   "outputs": [],
   "source": [
    "from sklearn.model_selection import StratifiedKFold\n",
    "skfold = StratifiedKFold(n_splits=3)"
   ]
  },
  {
   "cell_type": "code",
   "execution_count": 9,
   "metadata": {},
   "outputs": [],
   "source": [
    "def get_score(model, X_train, X_test, y_train, y_test):\n",
    "    if model == SVC:\n",
    "        clf = model(kernel = 'poly')\n",
    "    elif model == LogisticRegression:\n",
    "        clf = model(solver = 'newton-cg', max_iter=1000)\n",
    "    else:\n",
    "        clf = model()\n",
    "    clf.fit(X_train, y_train)\n",
    "    return clf.score(X_test, y_test)"
   ]
  },
  {
   "cell_type": "code",
   "execution_count": 10,
   "metadata": {},
   "outputs": [
    {
     "name": "stdout",
     "output_type": "stream",
     "text": [
      "Model: LogisticRegression() score: 0.92\n",
      "Model: SVC() score: 0.96\n",
      "Model: RandomForestClassifier() score: 0.93\n",
      "Model: DecisionTreeClassifier() score: 0.75\n",
      "Model: LogisticRegression() score: 0.94\n",
      "Model: SVC() score: 0.98\n",
      "Model: RandomForestClassifier() score: 0.96\n",
      "Model: DecisionTreeClassifier() score: 0.82\n",
      "Model: LogisticRegression() score: 0.92\n",
      "Model: SVC() score: 0.95\n",
      "Model: RandomForestClassifier() score: 0.92\n",
      "Model: DecisionTreeClassifier() score: 0.77\n"
     ]
    }
   ],
   "source": [
    "for train_index, test_index in skfold.split(digits.data, digits.target):\n",
    "    X_train, X_test, y_train, y_test = digits.data[train_index], digits.data[test_index], \\\n",
    "                                       digits.target[train_index], digits.target[test_index]\n",
    "    models = [LogisticRegression, SVC, RandomForestClassifier, DecisionTreeClassifier]\n",
    "    for model in models:\n",
    "        print('Model: {} score: {:.2f}'.format(model(), get_score(model, X_train, X_test, y_train, y_test)))"
   ]
  },
  {
   "cell_type": "code",
   "execution_count": 11,
   "metadata": {},
   "outputs": [
    {
     "data": {
      "text/plain": [
       "array([0.92487479, 0.93823038, 0.92320534])"
      ]
     },
     "execution_count": 11,
     "metadata": {},
     "output_type": "execute_result"
    }
   ],
   "source": [
    "from sklearn.model_selection import cross_val_score\n",
    "cross_val_score(LogisticRegression(solver='newton-cg', max_iter=1000), digits.data, digits.target, cv=3)"
   ]
  },
  {
   "cell_type": "markdown",
   "metadata": {},
   "source": [
    "#### Exercise"
   ]
  },
  {
   "cell_type": "code",
   "execution_count": 12,
   "metadata": {},
   "outputs": [],
   "source": [
    "from sklearn.model_selection import StratifiedKFold\n",
    "from sklearn.model_selection import cross_val_score\n",
    "from sklearn.datasets import load_iris"
   ]
  },
  {
   "cell_type": "code",
   "execution_count": 13,
   "metadata": {},
   "outputs": [],
   "source": [
    "iris = load_iris()"
   ]
  },
  {
   "cell_type": "code",
   "execution_count": 14,
   "metadata": {},
   "outputs": [
    {
     "name": "stdout",
     "output_type": "stream",
     "text": [
      "Model: LogisticRegression(), Score: [0.98 0.96 0.98]\n",
      "Model: SVC(), Score: [0.98 0.94 0.98]\n",
      "Model: RandomForestClassifier(), Score: [0.98 0.94 0.98]\n",
      "Model: DecisionTreeClassifier(), Score: [0.98 0.92 0.98]\n"
     ]
    }
   ],
   "source": [
    "def get_score(model):\n",
    "    if model == SVC:\n",
    "        clf = model(kernel = 'poly')\n",
    "    elif model == LogisticRegression:\n",
    "        clf = model(solver = 'newton-cg', max_iter=1000)\n",
    "    else:\n",
    "        clf = model()\n",
    "    return cross_val_score(clf, iris.data, iris.target, cv=3)\n",
    "model = [LogisticRegression, DecisionTreeClassifier, SVC, RandomForestClassifier]\n",
    "for model in models:\n",
    "    print('Model: {}, Score: {}'.format(model(), get_score(model)))"
   ]
  },
  {
   "cell_type": "code",
   "execution_count": 16,
   "metadata": {},
   "outputs": [
    {
     "name": "stdout",
     "output_type": "stream",
     "text": [
      "[0.98 0.96 0.98]\n",
      "[0.98 0.94 0.98]\n",
      "[0.98 0.94 0.96]\n",
      "[0.98 0.94 0.98]\n"
     ]
    }
   ],
   "source": [
    "print(cross_val_score(LogisticRegression(solver='newton-cg', max_iter=1000), iris.data, iris.target, cv=3))\n",
    "print(cross_val_score(SVC(kernel='poly'), iris.data, iris.target, cv=3))\n",
    "print(cross_val_score(RandomForestClassifier(n_estimators=20), iris.data, iris.target, cv=3))\n",
    "print(cross_val_score(DecisionTreeClassifier(), iris.data, iris.target, cv=3))"
   ]
  },
  {
   "cell_type": "code",
   "execution_count": 17,
   "metadata": {},
   "outputs": [],
   "source": [
    "from sklearn.model_selection import cross_val_predict"
   ]
  }
 ],
 "metadata": {
  "kernelspec": {
   "display_name": "Python 3",
   "language": "python",
   "name": "python3"
  },
  "language_info": {
   "codemirror_mode": {
    "name": "ipython",
    "version": 3
   },
   "file_extension": ".py",
   "mimetype": "text/x-python",
   "name": "python",
   "nbconvert_exporter": "python",
   "pygments_lexer": "ipython3",
   "version": "3.8.5"
  }
 },
 "nbformat": 4,
 "nbformat_minor": 4
}
