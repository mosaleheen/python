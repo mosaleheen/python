{
 "cells": [
  {
   "cell_type": "code",
   "execution_count": 1,
   "metadata": {},
   "outputs": [],
   "source": [
    "import matplotlib.pyplot as plt\n",
    "import seaborn as sns\n",
    "import pandas as pd\n",
    "from sklearn.datasets import load_iris"
   ]
  },
  {
   "cell_type": "code",
   "execution_count": 2,
   "metadata": {},
   "outputs": [],
   "source": [
    "iris = load_iris()"
   ]
  },
  {
   "cell_type": "code",
   "execution_count": 3,
   "metadata": {},
   "outputs": [
    {
     "name": "stdout",
     "output_type": "stream",
     "text": [
      ".. _iris_dataset:\n",
      "\n",
      "Iris plants dataset\n",
      "--------------------\n",
      "\n",
      "**Data Set Characteristics:**\n",
      "\n",
      "    :Number of Instances: 150 (50 in each of three classes)\n",
      "    :Number of Attributes: 4 numeric, predictive attributes and the class\n",
      "    :Attribute Information:\n",
      "        - sepal length in cm\n",
      "        - sepal width in cm\n",
      "        - petal length in cm\n",
      "        - petal width in cm\n",
      "        - class:\n",
      "                - Iris-Setosa\n",
      "                - Iris-Versicolour\n",
      "                - Iris-Virginica\n",
      "                \n",
      "    :Summary Statistics:\n",
      "\n",
      "    ============== ==== ==== ======= ===== ====================\n",
      "                    Min  Max   Mean    SD   Class Correlation\n",
      "    ============== ==== ==== ======= ===== ====================\n",
      "    sepal length:   4.3  7.9   5.84   0.83    0.7826\n",
      "    sepal width:    2.0  4.4   3.05   0.43   -0.4194\n",
      "    petal length:   1.0  6.9   3.76   1.76    0.9490  (high!)\n",
      "    petal width:    0.1  2.5   1.20   0.76    0.9565  (high!)\n",
      "    ============== ==== ==== ======= ===== ====================\n",
      "\n",
      "    :Missing Attribute Values: None\n",
      "    :Class Distribution: 33.3% for each of 3 classes.\n",
      "    :Creator: R.A. Fisher\n",
      "    :Donor: Michael Marshall (MARSHALL%PLU@io.arc.nasa.gov)\n",
      "    :Date: July, 1988\n",
      "\n",
      "The famous Iris database, first used by Sir R.A. Fisher. The dataset is taken\n",
      "from Fisher's paper. Note that it's the same as in R, but not as in the UCI\n",
      "Machine Learning Repository, which has two wrong data points.\n",
      "\n",
      "This is perhaps the best known database to be found in the\n",
      "pattern recognition literature.  Fisher's paper is a classic in the field and\n",
      "is referenced frequently to this day.  (See Duda & Hart, for example.)  The\n",
      "data set contains 3 classes of 50 instances each, where each class refers to a\n",
      "type of iris plant.  One class is linearly separable from the other 2; the\n",
      "latter are NOT linearly separable from each other.\n",
      "\n",
      ".. topic:: References\n",
      "\n",
      "   - Fisher, R.A. \"The use of multiple measurements in taxonomic problems\"\n",
      "     Annual Eugenics, 7, Part II, 179-188 (1936); also in \"Contributions to\n",
      "     Mathematical Statistics\" (John Wiley, NY, 1950).\n",
      "   - Duda, R.O., & Hart, P.E. (1973) Pattern Classification and Scene Analysis.\n",
      "     (Q327.D83) John Wiley & Sons.  ISBN 0-471-22361-1.  See page 218.\n",
      "   - Dasarathy, B.V. (1980) \"Nosing Around the Neighborhood: A New System\n",
      "     Structure and Classification Rule for Recognition in Partially Exposed\n",
      "     Environments\".  IEEE Transactions on Pattern Analysis and Machine\n",
      "     Intelligence, Vol. PAMI-2, No. 1, 67-71.\n",
      "   - Gates, G.W. (1972) \"The Reduced Nearest Neighbor Rule\".  IEEE Transactions\n",
      "     on Information Theory, May 1972, 431-433.\n",
      "   - See also: 1988 MLC Proceedings, 54-64.  Cheeseman et al\"s AUTOCLASS II\n",
      "     conceptual clustering system finds 3 classes in the data.\n",
      "   - Many, many more ...\n"
     ]
    }
   ],
   "source": [
    "print(iris.DESCR)"
   ]
  },
  {
   "cell_type": "code",
   "execution_count": 4,
   "metadata": {},
   "outputs": [],
   "source": [
    "from sklearn.linear_model import LogisticRegression\n",
    "from sklearn.tree import DecisionTreeClassifier\n",
    "from sklearn.ensemble import RandomForestClassifier\n",
    "from sklearn.svm import SVC\n",
    "from sklearn.naive_bayes import GaussianNB\n",
    "from sklearn import metrics\n",
    "from sklearn.model_selection import train_test_split\n",
    "from sklearn.model_selection import StratifiedKFold\n",
    "from sklearn.model_selection import cross_val_score"
   ]
  },
  {
   "cell_type": "code",
   "execution_count": 5,
   "metadata": {},
   "outputs": [
    {
     "name": "stdout",
     "output_type": "stream",
     "text": [
      "Model: LogisticRegression(max_iter=1000, solver='newton-cg'), Score: 0.98\n",
      "Model: LogisticRegression(max_iter=1000, solver='newton-cg'), Score: 0.96\n",
      "Model: LogisticRegression(max_iter=1000, solver='newton-cg'), Score: 0.98\n",
      "Model: DecisionTreeClassifier(), Score: 0.98\n",
      "Model: DecisionTreeClassifier(), Score: 0.92\n",
      "Model: DecisionTreeClassifier(), Score: 1.0\n",
      "Model: RandomForestClassifier(n_estimators=20), Score: 0.98\n",
      "Model: RandomForestClassifier(n_estimators=20), Score: 0.94\n",
      "Model: RandomForestClassifier(n_estimators=20), Score: 0.94\n",
      "Model: SVC(kernel='poly'), Score: 0.98\n",
      "Model: SVC(kernel='poly'), Score: 0.94\n",
      "Model: SVC(kernel='poly'), Score: 0.98\n",
      "Model: GaussianNB(), Score: 0.92\n",
      "Model: GaussianNB(), Score: 0.94\n",
      "Model: GaussianNB(), Score: 0.96\n"
     ]
    }
   ],
   "source": [
    "models = [LogisticRegression(solver='newton-cg', max_iter=1000), DecisionTreeClassifier(), \\\n",
    "          RandomForestClassifier(n_estimators= 20), SVC(kernel='poly'), GaussianNB()]\n",
    "skfold = StratifiedKFold(n_splits=3)\n",
    "for model in models:\n",
    "    for train_index, test_index in skfold.split(iris.data, iris.target):\n",
    "        X_train, X_test, y_train, y_test = iris.data[train_index], iris.data[test_index], \\\n",
    "                                           iris.target[train_index], iris.target[test_index]\n",
    "        model.fit(X_train, y_train)\n",
    "        print('Model: {}, Score: {}'.format(model, model.score(X_test, y_test)))"
   ]
  },
  {
   "cell_type": "code",
   "execution_count": 6,
   "metadata": {},
   "outputs": [],
   "source": [
    "from sklearn.model_selection import GridSearchCV\n",
    "from sklearn.model_selection import RandomizedSearchCV\n",
    "from sklearn.svm import SVC"
   ]
  },
  {
   "cell_type": "code",
   "execution_count": 7,
   "metadata": {},
   "outputs": [
    {
     "data": {
      "text/plain": [
       "GridSearchCV(cv=5, estimator=SVC(),\n",
       "             param_grid={'C': [1, 2, 3, 4, 5, 10, 20, 50],\n",
       "                         'gamma': ['scale', 'auto'],\n",
       "                         'kernel': ['linear', 'poly', 'rbf', 'sigmoid']})"
      ]
     },
     "execution_count": 7,
     "metadata": {},
     "output_type": "execute_result"
    }
   ],
   "source": [
    "model = GridSearchCV(SVC(),{\n",
    "    'kernel':['linear', 'poly', 'rbf', 'sigmoid'],\n",
    "    'C':[1, 2,3, 4, 5, 10, 20, 50],\n",
    "    'gamma':['scale','auto']\n",
    "}, cv = 5, )\n",
    "model.fit(iris.data, iris.target)"
   ]
  },
  {
   "cell_type": "code",
   "execution_count": 8,
   "metadata": {},
   "outputs": [
    {
     "name": "stdout",
     "output_type": "stream",
     "text": [
      "{'C': 4, 'gamma': 'auto', 'kernel': 'rbf'}\n",
      "0.9866666666666667\n"
     ]
    }
   ],
   "source": [
    "print(model.best_params_)\n",
    "print(model.best_score_)"
   ]
  },
  {
   "cell_type": "code",
   "execution_count": 9,
   "metadata": {},
   "outputs": [
    {
     "data": {
      "text/plain": [
       "RandomizedSearchCV(cv=5, estimator=SVC(), n_iter=20,\n",
       "                   param_distributions={'C': [1, 2, 3, 4, 5, 10, 20, 50],\n",
       "                                        'gamma': ['scale', 'auto'],\n",
       "                                        'kernel': ['linear', 'poly', 'rbf',\n",
       "                                                   'sigmoid']})"
      ]
     },
     "execution_count": 9,
     "metadata": {},
     "output_type": "execute_result"
    }
   ],
   "source": [
    "model = RandomizedSearchCV(SVC(),{\n",
    "       'kernel':['linear', 'poly', 'rbf', 'sigmoid'],\n",
    "       'C':[1, 2,3, 4, 5, 10, 20, 50],\n",
    "       'gamma':['scale','auto']     \n",
    "}, cv = 5, n_iter = 20)\n",
    "model.fit(iris.data, iris.target)"
   ]
  },
  {
   "cell_type": "code",
   "execution_count": 10,
   "metadata": {},
   "outputs": [
    {
     "name": "stdout",
     "output_type": "stream",
     "text": [
      "{'kernel': 'rbf', 'gamma': 'scale', 'C': 5}\n",
      "0.9866666666666667\n"
     ]
    }
   ],
   "source": [
    "print(model.best_params_)\n",
    "print(model.best_score_)"
   ]
  },
  {
   "cell_type": "markdown",
   "metadata": {},
   "source": [
    "#### Exercise"
   ]
  },
  {
   "cell_type": "code",
   "execution_count": 11,
   "metadata": {},
   "outputs": [],
   "source": [
    "from sklearn.svm import SVC\n",
    "from sklearn.tree import DecisionTreeClassifier\n",
    "from sklearn.ensemble import RandomForestClassifier\n",
    "from sklearn.linear_model import LogisticRegression\n",
    "from sklearn.naive_bayes import MultinomialNB\n",
    "from sklearn.naive_bayes import GaussianNB\n",
    "from sklearn.naive_bayes import BernoulliNB\n",
    "from sklearn.model_selection import GridSearchCV\n",
    "from sklearn.model_selection import RandomizedSearchCV"
   ]
  },
  {
   "cell_type": "code",
   "execution_count": 12,
   "metadata": {},
   "outputs": [],
   "source": [
    "from sklearn.datasets import load_digits\n",
    "digits = load_digits()"
   ]
  },
  {
   "cell_type": "code",
   "execution_count": 13,
   "metadata": {},
   "outputs": [],
   "source": [
    "models = {\n",
    "        'svc':{'model':SVC(), \n",
    "           'params':{\n",
    "        'kernel':['linear', 'poly', 'rbf', 'sigmoid'],\n",
    "        'C':[1,  5, 10, 50],\n",
    "        'gamma': ['scale', 'auto']\n",
    "        }\n",
    "    },\n",
    "        'logit':{'model':LogisticRegression(max_iter=1000), \n",
    "           'params':{\n",
    "        'solver':['liblinear', 'newton-cg'],\n",
    "        'C':[1, 5, 10, 50],\n",
    "        }\n",
    "    },\n",
    "    \n",
    "        'tree':{'model':DecisionTreeClassifier(), \n",
    "           'params':{\n",
    "        'criterion' : [\"gini\", \"entropy\"],\n",
    "        }\n",
    "    },\n",
    "        'forest':{'model':RandomForestClassifier(), \n",
    "           'params':{\n",
    "        'criterion' : [\"gini\", \"entropy\"],\n",
    "        'n_estimators' :[10, 50, 100, 200],\n",
    "        }\n",
    "    },\n",
    "    \n",
    "        'multinb':{'model':MultinomialNB(), \n",
    "           'params':{\n",
    "        'alpha':[1, 5, 10, 20, 50]\n",
    "        }\n",
    "    },\n",
    "        'gaussnb':{'model':GaussianNB(), \n",
    "           'params':{\n",
    "               \n",
    "        }\n",
    "    },\n",
    "        'bernnb':{'model':BernoulliNB(), \n",
    "           'params':{\n",
    "        'alpha':[1, 5, 10, 20, 50]\n",
    "        }\n",
    "    },    \n",
    "}"
   ]
  },
  {
   "cell_type": "code",
   "execution_count": 14,
   "metadata": {},
   "outputs": [],
   "source": [
    "scores = []\n",
    "for model_name, model_param in models.items():\n",
    "    clf = GridSearchCV(model_param['model'], model_param['params'], cv = 5)\n",
    "    clf.fit(digits.data, digits.target)\n",
    "    scores.append({\n",
    "     'model':model_name,\n",
    "     'best score': clf.best_score_,\n",
    "     'best params': clf.best_params_\n",
    "    })"
   ]
  },
  {
   "cell_type": "code",
   "execution_count": 15,
   "metadata": {},
   "outputs": [
    {
     "data": {
      "text/html": [
       "<div>\n",
       "<style scoped>\n",
       "    .dataframe tbody tr th:only-of-type {\n",
       "        vertical-align: middle;\n",
       "    }\n",
       "\n",
       "    .dataframe tbody tr th {\n",
       "        vertical-align: top;\n",
       "    }\n",
       "\n",
       "    .dataframe thead th {\n",
       "        text-align: right;\n",
       "    }\n",
       "</style>\n",
       "<table border=\"1\" class=\"dataframe\">\n",
       "  <thead>\n",
       "    <tr style=\"text-align: right;\">\n",
       "      <th></th>\n",
       "      <th>model</th>\n",
       "      <th>best score</th>\n",
       "      <th>best params</th>\n",
       "    </tr>\n",
       "  </thead>\n",
       "  <tbody>\n",
       "    <tr>\n",
       "      <th>0</th>\n",
       "      <td>svc</td>\n",
       "      <td>0.973850</td>\n",
       "      <td>{'C': 5, 'gamma': 'scale', 'kernel': 'rbf'}</td>\n",
       "    </tr>\n",
       "    <tr>\n",
       "      <th>1</th>\n",
       "      <td>logit</td>\n",
       "      <td>0.922114</td>\n",
       "      <td>{'C': 1, 'solver': 'liblinear'}</td>\n",
       "    </tr>\n",
       "    <tr>\n",
       "      <th>2</th>\n",
       "      <td>tree</td>\n",
       "      <td>0.808600</td>\n",
       "      <td>{'criterion': 'entropy'}</td>\n",
       "    </tr>\n",
       "    <tr>\n",
       "      <th>3</th>\n",
       "      <td>forest</td>\n",
       "      <td>0.941035</td>\n",
       "      <td>{'criterion': 'gini', 'n_estimators': 100}</td>\n",
       "    </tr>\n",
       "    <tr>\n",
       "      <th>4</th>\n",
       "      <td>multinb</td>\n",
       "      <td>0.877027</td>\n",
       "      <td>{'alpha': 50}</td>\n",
       "    </tr>\n",
       "    <tr>\n",
       "      <th>5</th>\n",
       "      <td>gaussnb</td>\n",
       "      <td>0.806928</td>\n",
       "      <td>{}</td>\n",
       "    </tr>\n",
       "    <tr>\n",
       "      <th>6</th>\n",
       "      <td>bernnb</td>\n",
       "      <td>0.824174</td>\n",
       "      <td>{'alpha': 1}</td>\n",
       "    </tr>\n",
       "  </tbody>\n",
       "</table>\n",
       "</div>"
      ],
      "text/plain": [
       "     model  best score                                  best params\n",
       "0      svc    0.973850  {'C': 5, 'gamma': 'scale', 'kernel': 'rbf'}\n",
       "1    logit    0.922114              {'C': 1, 'solver': 'liblinear'}\n",
       "2     tree    0.808600                     {'criterion': 'entropy'}\n",
       "3   forest    0.941035   {'criterion': 'gini', 'n_estimators': 100}\n",
       "4  multinb    0.877027                                {'alpha': 50}\n",
       "5  gaussnb    0.806928                                           {}\n",
       "6   bernnb    0.824174                                 {'alpha': 1}"
      ]
     },
     "execution_count": 15,
     "metadata": {},
     "output_type": "execute_result"
    }
   ],
   "source": [
    "pd.DataFrame(scores)"
   ]
  }
 ],
 "metadata": {
  "kernelspec": {
   "display_name": "Python 3",
   "language": "python",
   "name": "python3"
  },
  "language_info": {
   "codemirror_mode": {
    "name": "ipython",
    "version": 3
   },
   "file_extension": ".py",
   "mimetype": "text/x-python",
   "name": "python",
   "nbconvert_exporter": "python",
   "pygments_lexer": "ipython3",
   "version": "3.8.3"
  }
 },
 "nbformat": 4,
 "nbformat_minor": 4
}
